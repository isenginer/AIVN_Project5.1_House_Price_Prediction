{
 "cells": [
  {
   "cell_type": "code",
   "id": "initial_id",
   "metadata": {
    "collapsed": true,
    "ExecuteTime": {
     "end_time": "2025-10-26T04:27:50.535460Z",
     "start_time": "2025-10-26T04:27:50.532882Z"
    }
   },
   "source": [
    "import pandas as pd\n",
    "import numpy as np"
   ],
   "outputs": [],
   "execution_count": 1
  },
  {
   "metadata": {},
   "cell_type": "markdown",
   "source": "## 1. LOAD DATA WITH PREPROCESSING",
   "id": "dbb8bd64c0a25883"
  },
  {
   "metadata": {
    "ExecuteTime": {
     "end_time": "2025-10-26T04:32:38.775657Z",
     "start_time": "2025-10-26T04:32:38.738468Z"
    }
   },
   "cell_type": "code",
   "source": [
    "from src.utils.data_explorer import data_loader\n",
    "\n",
    "data = data_loader(\"../dataset/\", [\"train.csv\", \"test.csv\"])\n",
    "train_data = data[\"train_data\"].set_index(\"Id\")\n",
    "test_data = data[\"test_data\"].set_index(\"Id\")\n",
    "\n",
    "train_data.head()"
   ],
   "id": "1c6496540efc3996",
   "outputs": [
    {
     "name": "stdout",
     "output_type": "stream",
     "text": [
      "==================================================\n",
      "📁 DATA LOADER SUMMARY\n",
      "==================================================\n",
      "✅ train.csv: 1,168 row * 271 columns\n",
      "✅ test.csv: 292 row * 271 columns\n",
      "\n",
      "📊 Total files loaded: 2\n",
      "==================================================\n"
     ]
    },
    {
     "data": {
      "text/plain": [
       "      MSSubClass  LotFrontage   LotArea  OverallQual  OverallCond  YearBuilt  \\\n",
       "Id                                                                             \n",
       "255    -0.866764    -0.012468 -0.212896    -0.820445     0.372217  -0.455469   \n",
       "1067    0.074110    -0.502357 -0.265245    -0.088934     1.268609   0.718609   \n",
       "639    -0.631546    -0.146074 -0.177841    -0.820445     1.268609  -1.988293   \n",
       "800    -0.161109    -0.457822 -0.324474    -0.820445     1.268609  -1.107734   \n",
       "381    -0.161109    -0.903175 -0.529035    -0.820445     0.372217  -1.531707   \n",
       "\n",
       "      YearRemodAdd  MasVnrArea  BsmtFinSF1  BsmtFinSF2  ...  SaleType_New  \\\n",
       "Id                                                      ...                 \n",
       "255      -1.346063   -0.597889    1.037269   -0.285504  ...           0.0   \n",
       "1067      0.439214   -0.597889   -0.971996   -0.285504  ...           0.0   \n",
       "639      -1.683818   -0.597889   -0.971996   -0.285504  ...           0.0   \n",
       "800      -1.683818    0.861522    0.267995   -0.285504  ...           0.0   \n",
       "381      -1.683818   -0.597889   -0.496920   -0.285504  ...           0.0   \n",
       "\n",
       "      SaleType_Oth  SaleType_WD  SaleCondition_Abnorml  SaleCondition_AdjLand  \\\n",
       "Id                                                                              \n",
       "255            0.0          1.0                    0.0                    0.0   \n",
       "1067           0.0          1.0                    0.0                    0.0   \n",
       "639            0.0          1.0                    0.0                    0.0   \n",
       "800            0.0          1.0                    0.0                    0.0   \n",
       "381            0.0          1.0                    0.0                    0.0   \n",
       "\n",
       "      SaleCondition_Alloca  SaleCondition_Family  SaleCondition_Normal  \\\n",
       "Id                                                                       \n",
       "255                    0.0                   0.0                   1.0   \n",
       "1067                   0.0                   0.0                   1.0   \n",
       "639                    0.0                   0.0                   1.0   \n",
       "800                    0.0                   0.0                   1.0   \n",
       "381                    0.0                   0.0                   1.0   \n",
       "\n",
       "      SaleCondition_Partial  SalePrice  \n",
       "Id                                      \n",
       "255                     0.0     145000  \n",
       "1067                    0.0     178000  \n",
       "639                     0.0      85000  \n",
       "800                     0.0     175000  \n",
       "381                     0.0     127000  \n",
       "\n",
       "[5 rows x 270 columns]"
      ],
      "text/html": [
       "<div>\n",
       "<style scoped>\n",
       "    .dataframe tbody tr th:only-of-type {\n",
       "        vertical-align: middle;\n",
       "    }\n",
       "\n",
       "    .dataframe tbody tr th {\n",
       "        vertical-align: top;\n",
       "    }\n",
       "\n",
       "    .dataframe thead th {\n",
       "        text-align: right;\n",
       "    }\n",
       "</style>\n",
       "<table border=\"1\" class=\"dataframe\">\n",
       "  <thead>\n",
       "    <tr style=\"text-align: right;\">\n",
       "      <th></th>\n",
       "      <th>MSSubClass</th>\n",
       "      <th>LotFrontage</th>\n",
       "      <th>LotArea</th>\n",
       "      <th>OverallQual</th>\n",
       "      <th>OverallCond</th>\n",
       "      <th>YearBuilt</th>\n",
       "      <th>YearRemodAdd</th>\n",
       "      <th>MasVnrArea</th>\n",
       "      <th>BsmtFinSF1</th>\n",
       "      <th>BsmtFinSF2</th>\n",
       "      <th>...</th>\n",
       "      <th>SaleType_New</th>\n",
       "      <th>SaleType_Oth</th>\n",
       "      <th>SaleType_WD</th>\n",
       "      <th>SaleCondition_Abnorml</th>\n",
       "      <th>SaleCondition_AdjLand</th>\n",
       "      <th>SaleCondition_Alloca</th>\n",
       "      <th>SaleCondition_Family</th>\n",
       "      <th>SaleCondition_Normal</th>\n",
       "      <th>SaleCondition_Partial</th>\n",
       "      <th>SalePrice</th>\n",
       "    </tr>\n",
       "    <tr>\n",
       "      <th>Id</th>\n",
       "      <th></th>\n",
       "      <th></th>\n",
       "      <th></th>\n",
       "      <th></th>\n",
       "      <th></th>\n",
       "      <th></th>\n",
       "      <th></th>\n",
       "      <th></th>\n",
       "      <th></th>\n",
       "      <th></th>\n",
       "      <th></th>\n",
       "      <th></th>\n",
       "      <th></th>\n",
       "      <th></th>\n",
       "      <th></th>\n",
       "      <th></th>\n",
       "      <th></th>\n",
       "      <th></th>\n",
       "      <th></th>\n",
       "      <th></th>\n",
       "      <th></th>\n",
       "    </tr>\n",
       "  </thead>\n",
       "  <tbody>\n",
       "    <tr>\n",
       "      <th>255</th>\n",
       "      <td>-0.866764</td>\n",
       "      <td>-0.012468</td>\n",
       "      <td>-0.212896</td>\n",
       "      <td>-0.820445</td>\n",
       "      <td>0.372217</td>\n",
       "      <td>-0.455469</td>\n",
       "      <td>-1.346063</td>\n",
       "      <td>-0.597889</td>\n",
       "      <td>1.037269</td>\n",
       "      <td>-0.285504</td>\n",
       "      <td>...</td>\n",
       "      <td>0.0</td>\n",
       "      <td>0.0</td>\n",
       "      <td>1.0</td>\n",
       "      <td>0.0</td>\n",
       "      <td>0.0</td>\n",
       "      <td>0.0</td>\n",
       "      <td>0.0</td>\n",
       "      <td>1.0</td>\n",
       "      <td>0.0</td>\n",
       "      <td>145000</td>\n",
       "    </tr>\n",
       "    <tr>\n",
       "      <th>1067</th>\n",
       "      <td>0.074110</td>\n",
       "      <td>-0.502357</td>\n",
       "      <td>-0.265245</td>\n",
       "      <td>-0.088934</td>\n",
       "      <td>1.268609</td>\n",
       "      <td>0.718609</td>\n",
       "      <td>0.439214</td>\n",
       "      <td>-0.597889</td>\n",
       "      <td>-0.971996</td>\n",
       "      <td>-0.285504</td>\n",
       "      <td>...</td>\n",
       "      <td>0.0</td>\n",
       "      <td>0.0</td>\n",
       "      <td>1.0</td>\n",
       "      <td>0.0</td>\n",
       "      <td>0.0</td>\n",
       "      <td>0.0</td>\n",
       "      <td>0.0</td>\n",
       "      <td>1.0</td>\n",
       "      <td>0.0</td>\n",
       "      <td>178000</td>\n",
       "    </tr>\n",
       "    <tr>\n",
       "      <th>639</th>\n",
       "      <td>-0.631546</td>\n",
       "      <td>-0.146074</td>\n",
       "      <td>-0.177841</td>\n",
       "      <td>-0.820445</td>\n",
       "      <td>1.268609</td>\n",
       "      <td>-1.988293</td>\n",
       "      <td>-1.683818</td>\n",
       "      <td>-0.597889</td>\n",
       "      <td>-0.971996</td>\n",
       "      <td>-0.285504</td>\n",
       "      <td>...</td>\n",
       "      <td>0.0</td>\n",
       "      <td>0.0</td>\n",
       "      <td>1.0</td>\n",
       "      <td>0.0</td>\n",
       "      <td>0.0</td>\n",
       "      <td>0.0</td>\n",
       "      <td>0.0</td>\n",
       "      <td>1.0</td>\n",
       "      <td>0.0</td>\n",
       "      <td>85000</td>\n",
       "    </tr>\n",
       "    <tr>\n",
       "      <th>800</th>\n",
       "      <td>-0.161109</td>\n",
       "      <td>-0.457822</td>\n",
       "      <td>-0.324474</td>\n",
       "      <td>-0.820445</td>\n",
       "      <td>1.268609</td>\n",
       "      <td>-1.107734</td>\n",
       "      <td>-1.683818</td>\n",
       "      <td>0.861522</td>\n",
       "      <td>0.267995</td>\n",
       "      <td>-0.285504</td>\n",
       "      <td>...</td>\n",
       "      <td>0.0</td>\n",
       "      <td>0.0</td>\n",
       "      <td>1.0</td>\n",
       "      <td>0.0</td>\n",
       "      <td>0.0</td>\n",
       "      <td>0.0</td>\n",
       "      <td>0.0</td>\n",
       "      <td>1.0</td>\n",
       "      <td>0.0</td>\n",
       "      <td>175000</td>\n",
       "    </tr>\n",
       "    <tr>\n",
       "      <th>381</th>\n",
       "      <td>-0.161109</td>\n",
       "      <td>-0.903175</td>\n",
       "      <td>-0.529035</td>\n",
       "      <td>-0.820445</td>\n",
       "      <td>0.372217</td>\n",
       "      <td>-1.531707</td>\n",
       "      <td>-1.683818</td>\n",
       "      <td>-0.597889</td>\n",
       "      <td>-0.496920</td>\n",
       "      <td>-0.285504</td>\n",
       "      <td>...</td>\n",
       "      <td>0.0</td>\n",
       "      <td>0.0</td>\n",
       "      <td>1.0</td>\n",
       "      <td>0.0</td>\n",
       "      <td>0.0</td>\n",
       "      <td>0.0</td>\n",
       "      <td>0.0</td>\n",
       "      <td>1.0</td>\n",
       "      <td>0.0</td>\n",
       "      <td>127000</td>\n",
       "    </tr>\n",
       "  </tbody>\n",
       "</table>\n",
       "<p>5 rows × 270 columns</p>\n",
       "</div>"
      ]
     },
     "execution_count": 6,
     "metadata": {},
     "output_type": "execute_result"
    }
   ],
   "execution_count": 6
  },
  {
   "metadata": {
    "ExecuteTime": {
     "end_time": "2025-10-26T04:32:47.637825Z",
     "start_time": "2025-10-26T04:32:47.633351Z"
    }
   },
   "cell_type": "code",
   "source": [
    "X_train = train_data.iloc[:, :-1]\n",
    "y_train = train_data.iloc[:, -1]\n",
    "X_test = test_data.iloc[:, :-1]\n",
    "y_test = test_data.iloc[:, -1]\n",
    "print(\"Training data shape: \", X_train.shape)\n",
    "print(\"Test data shape: \", X_test.shape)"
   ],
   "id": "ee5d41e9111cfb02",
   "outputs": [
    {
     "name": "stdout",
     "output_type": "stream",
     "text": [
      "Training data shape:  (1168, 269)\n",
      "Test data shape:  (292, 269)\n"
     ]
    }
   ],
   "execution_count": 7
  },
  {
   "metadata": {},
   "cell_type": "markdown",
   "source": "## 3. MODEL TRAIN & PROCESSING",
   "id": "ded5e2562b16bf72"
  },
  {
   "metadata": {
    "ExecuteTime": {
     "end_time": "2025-10-26T04:33:47.804640Z",
     "start_time": "2025-10-26T04:33:47.646853Z"
    }
   },
   "cell_type": "code",
   "source": [
    "from src.utils.model_built import LRRegularizationVectorized\n",
    "\n",
    "LRR = LRRegularizationVectorized(\n",
    "    method=\"gradient\",\n",
    "    learning_rate=0.001,\n",
    ")\n",
    "\n",
    "LRR.fit(X_train, y_train)\n",
    "y_pred = LRR.predict(X_test)\n",
    "print(LRR.score(X_test, y_test))\n",
    "LRR.plot_cost_history()"
   ],
   "id": "d715c8f82a442db9",
   "outputs": [
    {
     "name": "stdout",
     "output_type": "stream",
     "text": [
      "✅ Fitting data completion!\n",
      "0.79566080189003\n"
     ]
    },
    {
     "data": {
      "text/plain": [
       "<Figure size 1000x600 with 1 Axes>"
      ],
      "image/png": "[encoded data removed]"
     },
     "metadata": {},
     "output_type": "display_data",
     "jetTransient": {
      "display_id": null
     }
    }
   ],
   "execution_count": 12
  }
 ],
 "metadata": {
  "kernelspec": {
   "display_name": "Python 3",
   "language": "python",
   "name": "python3"
  },
  "language_info": {
   "codemirror_mode": {
    "name": "ipython",
    "version": 2
   },
   "file_extension": ".py",
   "mimetype": "text/x-python",
   "name": "python",
   "nbconvert_exporter": "python",
   "pygments_lexer": "ipython2",
   "version": "2.7.6"
  }
 },
 "nbformat": 4,
 "nbformat_minor": 5
}
